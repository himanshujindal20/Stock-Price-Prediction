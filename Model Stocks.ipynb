{
 "cells": [
  {
   "cell_type": "code",
   "execution_count": 1,
   "id": "ea12786e",
   "metadata": {},
   "outputs": [],
   "source": [
    "import numpy as np\n",
    "import matplotlib.pyplot as plt\n",
    "import pandas as pd"
   ]
  },
  {
   "cell_type": "code",
   "execution_count": 2,
   "id": "6058af1d",
   "metadata": {},
   "outputs": [],
   "source": [
    "dataset_train=pd.read_csv('Google_Stock_Price_Train.csv')\n",
    "training_set=dataset_train.iloc[:,1:2].values"
   ]
  },
  {
   "cell_type": "code",
   "execution_count": 3,
   "id": "6cd453b8",
   "metadata": {},
   "outputs": [],
   "source": [
    "from sklearn.preprocessing import MinMaxScaler\n",
    "sc=MinMaxScaler(feature_range=(0,1))\n",
    "training_set_scaled=sc.fit_transform(training_set)"
   ]
  },
  {
   "cell_type": "code",
   "execution_count": 6,
   "id": "e72db4e7",
   "metadata": {},
   "outputs": [
    {
     "name": "stdout",
     "output_type": "stream",
     "text": [
      "[[[0.08581368]\n",
      "  [0.09701243]\n",
      "  [0.09433366]\n",
      "  ...\n",
      "  [0.07846566]\n",
      "  [0.08034452]\n",
      "  [0.08497656]]\n",
      "\n",
      " [[0.09701243]\n",
      "  [0.09433366]\n",
      "  [0.09156187]\n",
      "  ...\n",
      "  [0.08034452]\n",
      "  [0.08497656]\n",
      "  [0.08627874]]\n",
      "\n",
      " [[0.09433366]\n",
      "  [0.09156187]\n",
      "  [0.07984225]\n",
      "  ...\n",
      "  [0.08497656]\n",
      "  [0.08627874]\n",
      "  [0.08471612]]\n",
      "\n",
      " ...\n",
      "\n",
      " [[0.92106928]\n",
      "  [0.92438053]\n",
      "  [0.93048218]\n",
      "  ...\n",
      "  [0.95475854]\n",
      "  [0.95204256]\n",
      "  [0.95163331]]\n",
      "\n",
      " [[0.92438053]\n",
      "  [0.93048218]\n",
      "  [0.9299055 ]\n",
      "  ...\n",
      "  [0.95204256]\n",
      "  [0.95163331]\n",
      "  [0.95725128]]\n",
      "\n",
      " [[0.93048218]\n",
      "  [0.9299055 ]\n",
      "  [0.93113327]\n",
      "  ...\n",
      "  [0.95163331]\n",
      "  [0.95725128]\n",
      "  [0.93796041]]]\n"
     ]
    }
   ],
   "source": [
    "xtrain=[]\n",
    "ytrain=[]\n",
    "for i in range(60,1258):\n",
    "    xtrain.append((training_set_scaled[i-60:i,0]))\n",
    "    ytrain.append((training_set_scaled[i,0]))\n",
    "xtrain=np.array(xtrain)\n",
    "ytrain=np.array(ytrain)\n",
    "#print(xtrain.shape[0])\n",
    "#print((training_set_scaled).shape)\n",
    "xtrain=np.reshape(xtrain,(xtrain.shape[0],xtrain.shape[1],1))\n",
    "print(xtrain)"
   ]
  },
  {
   "cell_type": "code",
   "execution_count": 5,
   "id": "a48a1537",
   "metadata": {},
   "outputs": [],
   "source": [
    "from keras.models import Sequential\n",
    "from keras.layers import Dense,LSTM,Dropout"
   ]
  },
  {
   "cell_type": "code",
   "execution_count": 6,
   "id": "e218106d",
   "metadata": {},
   "outputs": [],
   "source": [
    "rnn=Sequential()"
   ]
  },
  {
   "cell_type": "code",
   "execution_count": 7,
   "id": "ab425955",
   "metadata": {},
   "outputs": [],
   "source": [
    "rnn.add(LSTM(units=50,return_sequences=True,input_shape=(xtrain.shape[1],1)))\n",
    "rnn.add(Dropout(0.2))\n",
    "rnn.add(LSTM(units=50,return_sequences=True))\n",
    "rnn.add(Dropout(0.2))\n",
    "rnn.add(LSTM(units=50,return_sequences=True))\n",
    "rnn.add(Dropout(0.2))\n",
    "rnn.add(LSTM(units=50,return_sequences=False))\n",
    "rnn.add(Dropout(0.2))\n",
    "rnn.add(Dense(units=1))"
   ]
  },
  {
   "cell_type": "code",
   "execution_count": 17,
   "id": "6f578c81",
   "metadata": {},
   "outputs": [],
   "source": [
    "rnn.compile(optimizer='adam',loss='mean_squared_error')"
   ]
  },
  {
   "cell_type": "code",
   "execution_count": 18,
   "id": "c067ed62",
   "metadata": {},
   "outputs": [
    {
     "name": "stdout",
     "output_type": "stream",
     "text": [
      "Epoch 1/10\n",
      "38/38 [==============================] - 9s 82ms/step - loss: 0.0019\n",
      "Epoch 2/10\n",
      "38/38 [==============================] - 3s 81ms/step - loss: 0.0016\n",
      "Epoch 3/10\n",
      "38/38 [==============================] - 3s 85ms/step - loss: 0.0013\n",
      "Epoch 4/10\n",
      "38/38 [==============================] - 3s 87ms/step - loss: 0.0014\n",
      "Epoch 5/10\n",
      "38/38 [==============================] - 3s 81ms/step - loss: 0.0014\n",
      "Epoch 6/10\n",
      "38/38 [==============================] - 3s 81ms/step - loss: 0.0020\n",
      "Epoch 7/10\n",
      "38/38 [==============================] - 3s 81ms/step - loss: 0.0018\n",
      "Epoch 8/10\n",
      "38/38 [==============================] - 3s 81ms/step - loss: 0.0013\n",
      "Epoch 9/10\n",
      "38/38 [==============================] - 3s 82ms/step - loss: 0.0014\n",
      "Epoch 10/10\n",
      "38/38 [==============================] - 3s 82ms/step - loss: 0.0014\n"
     ]
    },
    {
     "data": {
      "text/plain": [
       "<keras.callbacks.History at 0x7f28c7e2c610>"
      ]
     },
     "execution_count": 18,
     "metadata": {},
     "output_type": "execute_result"
    }
   ],
   "source": [
    "rnn.fit(xtrain,ytrain,epochs=10,batch_size=32)"
   ]
  },
  {
   "cell_type": "code",
   "execution_count": 19,
   "id": "764f7f0c",
   "metadata": {},
   "outputs": [],
   "source": [
    "dataset_test=pd.read_csv('Google_Stock_Price_Test.csv')\n",
    "real_stock_price=dataset_test.iloc[:,1:2].values\n",
    "#print(testing_set.shape)"
   ]
  },
  {
   "cell_type": "code",
   "execution_count": 20,
   "id": "f13eeacc",
   "metadata": {},
   "outputs": [],
   "source": [
    "datasettotal=pd.concat((dataset_train['Open'],dataset_test['Open']),axis=0)\n",
    "inputs=datasettotal[len(datasettotal)-len(dataset_test) - 60:].values\n",
    "inputs=inputs.reshape(-1,1)\n",
    "#print(inputs.shape)\n",
    "inputs=sc.transform(inputs)\n",
    "xtest=[]\n",
    "ytest=[]\n",
    "for i in range(60,80):\n",
    "    xtest.append(inputs[i-60:i,0])\n",
    "xtest=np.array(xtest)"
   ]
  },
  {
   "cell_type": "code",
   "execution_count": 21,
   "id": "f519ddbe",
   "metadata": {},
   "outputs": [],
   "source": [
    "#print(ytest)\n",
    "xtest=np.reshape(xtest,(xtest.shape[0],xtest.shape[1],1))\n",
    "#print(xtest.shape)\n",
    "predicted_stock_price=rnn.predict(xtest)\n",
    "#print(predicted_stock_price.shape)\n",
    "#print(predicted_stock_price)\n",
    "#a,b,c=predicted_stock_price.shape\n",
    "#predicted_stock_price=np.reshape(predicted_stock_price,(a,b))\n",
    "#print(predicted_stock_price.shape)\n",
    "predicted_stock_price=sc.inverse_transform(predicted_stock_price)"
   ]
  },
  {
   "cell_type": "code",
   "execution_count": 22,
   "id": "523b3267",
   "metadata": {},
   "outputs": [
    {
     "data": {
      "image/png": "[encoded data removed]",
      "text/plain": [
       "<Figure size 432x288 with 1 Axes>"
      ]
     },
     "metadata": {
      "needs_background": "light"
     },
     "output_type": "display_data"
    }
   ],
   "source": [
    "plt.plot(real_stock_price,color=\"red\",label=\"Real Google price\")\n",
    "plt.plot(predicted_stock_price,color=\"blue\",label=\"Predicted Google price with dropout 20% and epochs 100\")\n",
    "plt.title(\"GOOGLE STOCK PRICES\")\n",
    "plt.legend()\n",
    "plt.xlabel(\"Time\")\n",
    "plt.ylabel(\"Prices\")\n",
    "plt.show()"
   ]
  },
  {
   "cell_type": "code",
   "execution_count": 35,
   "id": "4f2be8ae",
   "metadata": {},
   "outputs": [
    {
     "data": {
      "image/png": "[encoded data removed]",
      "text/plain": [
       "<Figure size 432x288 with 1 Axes>"
      ]
     },
     "metadata": {
      "needs_background": "light"
     },
     "output_type": "display_data"
    }
   ],
   "source": [
    "plt.plot(real_stock_price,color=\"red\",label=\"Real Google price\")\n",
    "plt.plot(predicted_stock_price,color=\"blue\",label=\"Predicted Google price with dropout 30% and Epochs 30\")\n",
    "plt.title(\"GOOGLE STOCK PRICES\")\n",
    "plt.legend()\n",
    "plt.xlabel(\"Time\")\n",
    "plt.ylabel(\"Prices\")\n",
    "plt.show()"
   ]
  },
  {
   "cell_type": "code",
   "execution_count": null,
   "id": "c935ee98",
   "metadata": {},
   "outputs": [],
   "source": []
  }
 ],
 "metadata": {
  "kernelspec": {
   "display_name": "Python 3",
   "language": "python",
   "name": "python3"
  },
  "language_info": {
   "codemirror_mode": {
    "name": "ipython",
    "version": 3
   },
   "file_extension": ".py",
   "mimetype": "text/x-python",
   "name": "python",
   "nbconvert_exporter": "python",
   "pygments_lexer": "ipython3",
   "version": "3.8.5"
  }
 },
 "nbformat": 4,
 "nbformat_minor": 5
}
